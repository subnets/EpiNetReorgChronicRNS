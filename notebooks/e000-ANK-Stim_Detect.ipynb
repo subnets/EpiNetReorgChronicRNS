{
 "cells": [
  {
   "cell_type": "code",
   "execution_count": null,
   "metadata": {},
   "outputs": [],
   "source": [
    "%load_ext autoreload\n",
    "%autoreload 2\n",
    "%run __init__\n",
    "rs1_path = path['RSRCH'](0)\n",
    "\n",
    "cache_path = './cache/e000'\n",
    "try:\n",
    "    os.mkdir(cache_path)\n",
    "except:\n",
    "    pass\n",
    "\n",
    "fig_path = './figures/e000'\n",
    "try:\n",
    "    os.mkdir(fig_path)\n",
    "except:\n",
    "    pass\n",
    "\n",
    "import importlib\n",
    "e000_stim = importlib.import_module('e000-ANK-Stim_Blank')\n",
    "\n",
    "stdout_orig = sys.stdout\n",
    "\n",
    "flatui = [\"#46637f\", \"#2ecc71\", \"#e74c3c\", \"#3498db\", \"#9b59b6\", \"#95a5a6\"]\n",
    "sns.palplot(sns.color_palette(\"tab10\"))\n",
    "sns.set_palette(\"tab10\")"
   ]
  },
  {
   "cell_type": "code",
   "execution_count": null,
   "metadata": {},
   "outputs": [],
   "source": [
    "NP_CODE = 'NP26'\n",
    "sel_npref = path['CORE']['RNS']['NP_Ref'][path['CORE']['RNS']['NP_Ref']['NP_code'] == NP_CODE]\n",
    "sel_ctlg =  path['CORE']['RNS']['CATALOG'][path['CORE']['RNS']['CATALOG']['NP_code'] == NP_CODE]\n",
    "df_blank = e000_stim.load_stim_detect(NP_CODE)"
   ]
  },
  {
   "cell_type": "markdown",
   "metadata": {},
   "source": [
    "# Raster of Clip Recordings"
   ]
  },
  {
   "cell_type": "code",
   "execution_count": null,
   "metadata": {},
   "outputs": [],
   "source": [
    "date_implant = pd.Timestamp(sel_npref['Date_First_Implant'].iloc[0])\n",
    "date_clip = (pd.to_datetime(sel_ctlg['Timestamp']) - date_implant).reset_index(drop=True)\n",
    "days_clip = (np.array(date_clip) / 1e9 / (24*3600)).astype(float)\n",
    "\n",
    "ix_longep = np.flatnonzero(sel_ctlg['ECoG trigger'] == 'Long_Episode')\n",
    "ix_sched = np.flatnonzero(sel_ctlg['ECoG trigger'] == 'Scheduled')\n",
    "\n",
    "### PLOT Time Distribution of Scheduled Clips\n",
    "plt.figure(figsize=(12,2), dpi=300)\n",
    "ax = plt.subplot(111)\n",
    "ax.vlines(days_clip[ix_sched], 0, 1.0,\n",
    "          color=(0.0, 0.0, 0.0), linewidth=0.5)\n",
    "ax.vlines(days_clip[ix_longep], -1.0, 0,\n",
    "          color=(1.0, 0.78, 0.23), linewidth=0.5)\n",
    "\n",
    "ax.set_ylim([-2, 2])\n",
    "ax.spines['left'].set_visible(False)\n",
    "ax.set_yticks([])\n",
    "ax.set_xlabel('Days Post-Implant');\n",
    "ax.set_title('{}: Clip Raster'.format(NP_CODE))\n",
    "plt.tight_layout()\n",
    "plt.savefig('{}/{}.{}.svg'.format(fig_path, sel_npref.Initials.iloc[0], 'Clip_Raster'), dpi=300)\n",
    "plt.show()"
   ]
  },
  {
   "cell_type": "markdown",
   "metadata": {},
   "source": [
    "# Example Recordings with Stimulation"
   ]
  },
  {
   "cell_type": "code",
   "execution_count": null,
   "metadata": {},
   "outputs": [],
   "source": [
    "for trig, ix in [('Long_Episode', 70),\n",
    "                ('Scheduled', 1201)]:\n",
    "\n",
    "    sel = sel_ctlg[sel_ctlg['ECoG trigger'] == trig].reset_index()\n",
    "\n",
    "    # Load raw data\n",
    "    df = utils.neuropaceIO.get_ieeg_data_dict(sel.iloc[[ix]], path['CORE']['RNS']['BASE'])\n",
    "    sel_blank = df_blank[df_blank['Filename'] == sel.iloc[ix]['Filename']]\n",
    "\n",
    "    spacing = (np.arange(4)*8)\n",
    "\n",
    "    # Plot the signal\n",
    "    %matplotlib inline\n",
    "    plt.figure(figsize=(16,4), dpi=300)\n",
    "    ax = plt.subplot(111)\n",
    "    ax.plot(df['sample']['timestamp']-df['sample']['timestamp'][0],\n",
    "            sp_stats.zscore(df['signal'][:, :], axis=0) + spacing,\n",
    "            linewidth=0.25, color='k')\n",
    "\n",
    "    onset = df['sample']['timestamp'][sel_blank['StimOnset_ix']]-df['sample']['timestamp'][0]\n",
    "    offset = df['sample']['timestamp'][sel_blank['StimOffset_ix']]-df['sample']['timestamp'][0]\n",
    "    for on_ix, off_ix in zip(onset, offset):\n",
    "        ax.fill_betweenx([ax.get_ylim()[0], ax.get_ylim()[1]],\n",
    "                         on_ix, off_ix,\n",
    "                         color='r', alpha=0.25)\n",
    "\n",
    "    ax.set_xlabel('Clip Time (sec)')\n",
    "    ax.set_xticks([0, 30, 60, 90])\n",
    "    ax.set_yticks(spacing)\n",
    "    ax.set_yticklabels([sel.iloc[ix]['Ch {} name'.format(ch)] for ch in range(1,5)])\n",
    "\n",
    "    ax.set_ylim([spacing.min()-8, spacing.max()+8])\n",
    "\n",
    "    ax.set_title('{}: {}'.format(\n",
    "        sel.iloc[ix]['NP_code'], sel.iloc[ix]['ECoG trigger']))\n",
    "    plt.tight_layout()\n",
    "    plt.savefig('{}/{}.{}.svg'.format(fig_path, sel_npref.Initials.iloc[0], sel.iloc[[ix]].Filename.iloc[0]), dpi=300)\n",
    "    plt.show()"
   ]
  },
  {
   "cell_type": "code",
   "execution_count": null,
   "metadata": {},
   "outputs": [],
   "source": []
  }
 ],
 "metadata": {
  "hide_input": false,
  "kernelspec": {
   "display_name": "rs_2018_SpikeControl",
   "language": "python",
   "name": "rs_2018_spikecontrol"
  },
  "language_info": {
   "codemirror_mode": {
    "name": "ipython",
    "version": 3
   },
   "file_extension": ".py",
   "mimetype": "text/x-python",
   "name": "python",
   "nbconvert_exporter": "python",
   "pygments_lexer": "ipython3",
   "version": "3.8.3"
  },
  "toc": {
   "base_numbering": 1,
   "nav_menu": {},
   "number_sections": true,
   "sideBar": true,
   "skip_h1_title": false,
   "title_cell": "Table of Contents",
   "title_sidebar": "Contents",
   "toc_cell": false,
   "toc_position": {
    "height": "calc(100% - 180px)",
    "left": "10px",
    "top": "150px",
    "width": "317px"
   },
   "toc_section_display": true,
   "toc_window_display": true
  },
  "toc-autonumbering": true,
  "varInspector": {
   "cols": {
    "lenName": 16,
    "lenType": 16,
    "lenVar": 40
   },
   "kernels_config": {
    "python": {
     "delete_cmd_postfix": "",
     "delete_cmd_prefix": "del ",
     "library": "var_list.py",
     "varRefreshCmd": "print(var_dic_list())"
    },
    "r": {
     "delete_cmd_postfix": ") ",
     "delete_cmd_prefix": "rm(",
     "library": "var_list.r",
     "varRefreshCmd": "cat(var_dic_list()) "
    }
   },
   "types_to_exclude": [
    "module",
    "function",
    "builtin_function_or_method",
    "instance",
    "_Feature"
   ],
   "window_display": false
  }
 },
 "nbformat": 4,
 "nbformat_minor": 4
}
